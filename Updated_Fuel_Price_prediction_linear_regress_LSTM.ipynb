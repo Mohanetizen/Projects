{
  "nbformat": 4,
  "nbformat_minor": 0,
  "metadata": {
    "colab": {
      "name": "Updated Fuel_Price_prediction_linear regress_LSTM.ipynb",
      "provenance": [],
      "collapsed_sections": []
    },
    "kernelspec": {
      "name": "python3",
      "display_name": "Python 3"
    },
    "language_info": {
      "name": "python"
    }
  },
  "cells": [
    {
      "cell_type": "markdown",
      "metadata": {
        "id": "-yhBMzs4STZM"
      },
      "source": [
        "# OBJECTIVE : To predict the price of fuel for a period of 4 weeks based on the price dataset from 2019-2021"
      ]
    },
    {
      "cell_type": "code",
      "metadata": {
        "id": "_GwrhyB7P4xt"
      },
      "source": [
        "#Importing necessary packages\n",
        "import pandas as pd\n",
        "import numpy as np\n",
        "from matplotlib import pyplot as plt"
      ],
      "execution_count": null,
      "outputs": []
    },
    {
      "cell_type": "code",
      "metadata": {
        "colab": {
          "base_uri": "https://localhost:8080/",
          "height": 284
        },
        "id": "V5G9nGdSTgHM",
        "outputId": "4035ecd4-188b-491a-a7b7-929ffc8aac90"
      },
      "source": [
        "#importing the dataset\n",
        "df=pd.read_csv('fuel_price.csv')\n",
        "df.describe()"
      ],
      "execution_count": null,
      "outputs": [
        {
          "output_type": "execute_result",
          "data": {
            "text/html": [
              "<div>\n",
              "<style scoped>\n",
              "    .dataframe tbody tr th:only-of-type {\n",
              "        vertical-align: middle;\n",
              "    }\n",
              "\n",
              "    .dataframe tbody tr th {\n",
              "        vertical-align: top;\n",
              "    }\n",
              "\n",
              "    .dataframe thead th {\n",
              "        text-align: right;\n",
              "    }\n",
              "</style>\n",
              "<table border=\"1\" class=\"dataframe\">\n",
              "  <thead>\n",
              "    <tr style=\"text-align: right;\">\n",
              "      <th></th>\n",
              "      <th>Price</th>\n",
              "      <th>Change</th>\n",
              "      <th>High</th>\n",
              "      <th>Low</th>\n",
              "      <th>Spread</th>\n",
              "      <th>Unnamed: 9</th>\n",
              "      <th>Unnamed: 10</th>\n",
              "      <th>Unnamed: 11</th>\n",
              "      <th>Unnamed: 12</th>\n",
              "      <th>Unnamed: 13</th>\n",
              "      <th>Unnamed: 14</th>\n",
              "    </tr>\n",
              "  </thead>\n",
              "  <tbody>\n",
              "    <tr>\n",
              "      <th>count</th>\n",
              "      <td>697.000000</td>\n",
              "      <td>697.000000</td>\n",
              "      <td>697.000000</td>\n",
              "      <td>697.000000</td>\n",
              "      <td>697.000000</td>\n",
              "      <td>0.0</td>\n",
              "      <td>0.0</td>\n",
              "      <td>0.0</td>\n",
              "      <td>0.0</td>\n",
              "      <td>0.0</td>\n",
              "      <td>0.0</td>\n",
              "    </tr>\n",
              "    <tr>\n",
              "      <th>mean</th>\n",
              "      <td>326.181492</td>\n",
              "      <td>-0.197991</td>\n",
              "      <td>361.479914</td>\n",
              "      <td>308.558824</td>\n",
              "      <td>52.718795</td>\n",
              "      <td>NaN</td>\n",
              "      <td>NaN</td>\n",
              "      <td>NaN</td>\n",
              "      <td>NaN</td>\n",
              "      <td>NaN</td>\n",
              "      <td>NaN</td>\n",
              "    </tr>\n",
              "    <tr>\n",
              "      <th>std</th>\n",
              "      <td>76.266517</td>\n",
              "      <td>9.579873</td>\n",
              "      <td>71.728798</td>\n",
              "      <td>79.194341</td>\n",
              "      <td>17.704953</td>\n",
              "      <td>NaN</td>\n",
              "      <td>NaN</td>\n",
              "      <td>NaN</td>\n",
              "      <td>NaN</td>\n",
              "      <td>NaN</td>\n",
              "      <td>NaN</td>\n",
              "    </tr>\n",
              "    <tr>\n",
              "      <th>min</th>\n",
              "      <td>155.500000</td>\n",
              "      <td>-62.000000</td>\n",
              "      <td>197.000000</td>\n",
              "      <td>130.000000</td>\n",
              "      <td>6.000000</td>\n",
              "      <td>NaN</td>\n",
              "      <td>NaN</td>\n",
              "      <td>NaN</td>\n",
              "      <td>NaN</td>\n",
              "      <td>NaN</td>\n",
              "      <td>NaN</td>\n",
              "    </tr>\n",
              "    <tr>\n",
              "      <th>25%</th>\n",
              "      <td>278.000000</td>\n",
              "      <td>-4.000000</td>\n",
              "      <td>317.500000</td>\n",
              "      <td>257.500000</td>\n",
              "      <td>53.000000</td>\n",
              "      <td>NaN</td>\n",
              "      <td>NaN</td>\n",
              "      <td>NaN</td>\n",
              "      <td>NaN</td>\n",
              "      <td>NaN</td>\n",
              "      <td>NaN</td>\n",
              "    </tr>\n",
              "    <tr>\n",
              "      <th>50%</th>\n",
              "      <td>324.500000</td>\n",
              "      <td>0.000000</td>\n",
              "      <td>364.500000</td>\n",
              "      <td>304.500000</td>\n",
              "      <td>60.000000</td>\n",
              "      <td>NaN</td>\n",
              "      <td>NaN</td>\n",
              "      <td>NaN</td>\n",
              "      <td>NaN</td>\n",
              "      <td>NaN</td>\n",
              "      <td>NaN</td>\n",
              "    </tr>\n",
              "    <tr>\n",
              "      <th>75%</th>\n",
              "      <td>383.000000</td>\n",
              "      <td>4.000000</td>\n",
              "      <td>402.000000</td>\n",
              "      <td>373.000000</td>\n",
              "      <td>60.000000</td>\n",
              "      <td>NaN</td>\n",
              "      <td>NaN</td>\n",
              "      <td>NaN</td>\n",
              "      <td>NaN</td>\n",
              "      <td>NaN</td>\n",
              "      <td>NaN</td>\n",
              "    </tr>\n",
              "    <tr>\n",
              "      <th>max</th>\n",
              "      <td>587.500000</td>\n",
              "      <td>61.500000</td>\n",
              "      <td>615.000000</td>\n",
              "      <td>532.000000</td>\n",
              "      <td>112.000000</td>\n",
              "      <td>NaN</td>\n",
              "      <td>NaN</td>\n",
              "      <td>NaN</td>\n",
              "      <td>NaN</td>\n",
              "      <td>NaN</td>\n",
              "      <td>NaN</td>\n",
              "    </tr>\n",
              "  </tbody>\n",
              "</table>\n",
              "</div>"
            ],
            "text/plain": [
              "            Price      Change  ...  Unnamed: 13  Unnamed: 14\n",
              "count  697.000000  697.000000  ...          0.0          0.0\n",
              "mean   326.181492   -0.197991  ...          NaN          NaN\n",
              "std     76.266517    9.579873  ...          NaN          NaN\n",
              "min    155.500000  -62.000000  ...          NaN          NaN\n",
              "25%    278.000000   -4.000000  ...          NaN          NaN\n",
              "50%    324.500000    0.000000  ...          NaN          NaN\n",
              "75%    383.000000    4.000000  ...          NaN          NaN\n",
              "max    587.500000   61.500000  ...          NaN          NaN\n",
              "\n",
              "[8 rows x 11 columns]"
            ]
          },
          "metadata": {
            "tags": []
          },
          "execution_count": 2
        }
      ]
    },
    {
      "cell_type": "markdown",
      "metadata": {
        "id": "gOX20kvbUej-"
      },
      "source": [
        "Dropping the unnecessary columns"
      ]
    },
    {
      "cell_type": "code",
      "metadata": {
        "id": "onSvOcBZUjGW"
      },
      "source": [
        "df=df.drop(['Unnamed: 9','Unnamed: 10','Unnamed: 11','Unnamed: 12','Unnamed: 13','Unnamed: 14'],axis=1)"
      ],
      "execution_count": null,
      "outputs": []
    },
    {
      "cell_type": "code",
      "metadata": {
        "colab": {
          "base_uri": "https://localhost:8080/",
          "height": 343
        },
        "id": "ff_CmR1OVams",
        "outputId": "253c935f-b609-4ea5-c6a4-d73379942643"
      },
      "source": [
        "df['Date']=pd.to_datetime(df['Date']) #converting the date column to datetime format\n",
        "df.head(10)"
      ],
      "execution_count": null,
      "outputs": [
        {
          "output_type": "execute_result",
          "data": {
            "text/html": [
              "<div>\n",
              "<style scoped>\n",
              "    .dataframe tbody tr th:only-of-type {\n",
              "        vertical-align: middle;\n",
              "    }\n",
              "\n",
              "    .dataframe tbody tr th {\n",
              "        vertical-align: top;\n",
              "    }\n",
              "\n",
              "    .dataframe thead th {\n",
              "        text-align: right;\n",
              "    }\n",
              "</style>\n",
              "<table border=\"1\" class=\"dataframe\">\n",
              "  <thead>\n",
              "    <tr style=\"text-align: right;\">\n",
              "      <th></th>\n",
              "      <th>Date</th>\n",
              "      <th>WeekNo</th>\n",
              "      <th>FuelGrade</th>\n",
              "      <th>Port</th>\n",
              "      <th>Price</th>\n",
              "      <th>Change</th>\n",
              "      <th>High</th>\n",
              "      <th>Low</th>\n",
              "      <th>Spread</th>\n",
              "    </tr>\n",
              "  </thead>\n",
              "  <tbody>\n",
              "    <tr>\n",
              "      <th>0</th>\n",
              "      <td>2019-06-29</td>\n",
              "      <td>2019-26</td>\n",
              "      <td>HFO380</td>\n",
              "      <td>Singapore</td>\n",
              "      <td>428.5</td>\n",
              "      <td>13.5</td>\n",
              "      <td>436.0</td>\n",
              "      <td>417.0</td>\n",
              "      <td>19.0</td>\n",
              "    </tr>\n",
              "    <tr>\n",
              "      <th>1</th>\n",
              "      <td>2019-07-02</td>\n",
              "      <td>2019-27</td>\n",
              "      <td>HFO380</td>\n",
              "      <td>Singapore</td>\n",
              "      <td>429.0</td>\n",
              "      <td>14.0</td>\n",
              "      <td>436.0</td>\n",
              "      <td>417.0</td>\n",
              "      <td>19.0</td>\n",
              "    </tr>\n",
              "    <tr>\n",
              "      <th>2</th>\n",
              "      <td>2019-07-03</td>\n",
              "      <td>2019-27</td>\n",
              "      <td>HFO380</td>\n",
              "      <td>Singapore</td>\n",
              "      <td>425.0</td>\n",
              "      <td>-4.5</td>\n",
              "      <td>437.0</td>\n",
              "      <td>416.5</td>\n",
              "      <td>20.5</td>\n",
              "    </tr>\n",
              "    <tr>\n",
              "      <th>3</th>\n",
              "      <td>2019-07-04</td>\n",
              "      <td>2019-27</td>\n",
              "      <td>HFO380</td>\n",
              "      <td>Singapore</td>\n",
              "      <td>426.0</td>\n",
              "      <td>1.0</td>\n",
              "      <td>437.0</td>\n",
              "      <td>421.0</td>\n",
              "      <td>16.0</td>\n",
              "    </tr>\n",
              "    <tr>\n",
              "      <th>4</th>\n",
              "      <td>2019-07-05</td>\n",
              "      <td>2019-27</td>\n",
              "      <td>HFO380</td>\n",
              "      <td>Singapore</td>\n",
              "      <td>429.5</td>\n",
              "      <td>3.5</td>\n",
              "      <td>437.0</td>\n",
              "      <td>420.0</td>\n",
              "      <td>17.0</td>\n",
              "    </tr>\n",
              "    <tr>\n",
              "      <th>5</th>\n",
              "      <td>2019-07-06</td>\n",
              "      <td>2019-27</td>\n",
              "      <td>HFO380</td>\n",
              "      <td>Singapore</td>\n",
              "      <td>440.0</td>\n",
              "      <td>10.5</td>\n",
              "      <td>448.0</td>\n",
              "      <td>432.0</td>\n",
              "      <td>16.0</td>\n",
              "    </tr>\n",
              "    <tr>\n",
              "      <th>6</th>\n",
              "      <td>2019-07-07</td>\n",
              "      <td>2019-28</td>\n",
              "      <td>HFO380</td>\n",
              "      <td>Singapore</td>\n",
              "      <td>440.0</td>\n",
              "      <td>10.5</td>\n",
              "      <td>448.0</td>\n",
              "      <td>432.0</td>\n",
              "      <td>16.0</td>\n",
              "    </tr>\n",
              "    <tr>\n",
              "      <th>7</th>\n",
              "      <td>2019-07-08</td>\n",
              "      <td>2019-28</td>\n",
              "      <td>HFO380</td>\n",
              "      <td>Singapore</td>\n",
              "      <td>440.0</td>\n",
              "      <td>10.5</td>\n",
              "      <td>448.0</td>\n",
              "      <td>432.0</td>\n",
              "      <td>16.0</td>\n",
              "    </tr>\n",
              "    <tr>\n",
              "      <th>8</th>\n",
              "      <td>2019-07-09</td>\n",
              "      <td>2019-28</td>\n",
              "      <td>HFO380</td>\n",
              "      <td>Singapore</td>\n",
              "      <td>446.5</td>\n",
              "      <td>6.5</td>\n",
              "      <td>457.0</td>\n",
              "      <td>438.0</td>\n",
              "      <td>19.0</td>\n",
              "    </tr>\n",
              "    <tr>\n",
              "      <th>9</th>\n",
              "      <td>2019-07-10</td>\n",
              "      <td>2019-28</td>\n",
              "      <td>HFO380</td>\n",
              "      <td>Singapore</td>\n",
              "      <td>451.5</td>\n",
              "      <td>5.0</td>\n",
              "      <td>455.0</td>\n",
              "      <td>449.0</td>\n",
              "      <td>6.0</td>\n",
              "    </tr>\n",
              "  </tbody>\n",
              "</table>\n",
              "</div>"
            ],
            "text/plain": [
              "        Date   WeekNo FuelGrade       Port  Price  Change   High    Low  Spread\n",
              "0 2019-06-29  2019-26    HFO380  Singapore  428.5    13.5  436.0  417.0    19.0\n",
              "1 2019-07-02  2019-27    HFO380  Singapore  429.0    14.0  436.0  417.0    19.0\n",
              "2 2019-07-03  2019-27    HFO380  Singapore  425.0    -4.5  437.0  416.5    20.5\n",
              "3 2019-07-04  2019-27    HFO380  Singapore  426.0     1.0  437.0  421.0    16.0\n",
              "4 2019-07-05  2019-27    HFO380  Singapore  429.5     3.5  437.0  420.0    17.0\n",
              "5 2019-07-06  2019-27    HFO380  Singapore  440.0    10.5  448.0  432.0    16.0\n",
              "6 2019-07-07  2019-28    HFO380  Singapore  440.0    10.5  448.0  432.0    16.0\n",
              "7 2019-07-08  2019-28    HFO380  Singapore  440.0    10.5  448.0  432.0    16.0\n",
              "8 2019-07-09  2019-28    HFO380  Singapore  446.5     6.5  457.0  438.0    19.0\n",
              "9 2019-07-10  2019-28    HFO380  Singapore  451.5     5.0  455.0  449.0     6.0"
            ]
          },
          "metadata": {
            "tags": []
          },
          "execution_count": 4
        }
      ]
    },
    {
      "cell_type": "markdown",
      "metadata": {
        "id": "ubRG5xGWhDV_"
      },
      "source": [
        "Plotting price variation with respect to time "
      ]
    },
    {
      "cell_type": "code",
      "metadata": {
        "colab": {
          "base_uri": "https://localhost:8080/",
          "height": 277
        },
        "id": "Zph92hbphJr1",
        "outputId": "20b402a1-9d14-4618-cbf4-4847e6d2cba2"
      },
      "source": [
        "df.plot('Date','Price')\n",
        "plt.show()"
      ],
      "execution_count": null,
      "outputs": [
        {
          "output_type": "display_data",
          "data": {
            "image/png": "[encoded data removed]",
            "text/plain": [
              "<Figure size 432x288 with 1 Axes>"
            ]
          },
          "metadata": {
            "tags": [],
            "needs_background": "light"
          }
        }
      ]
    },
    {
      "cell_type": "markdown",
      "metadata": {
        "id": "EqxT5MM7kXVW"
      },
      "source": [
        "We can see a sharp price reduction during the time period of Nov 2019 - May 2020 \n",
        "\n",
        "This is due to the outbreak of the pandemic which decreased the fuel consumption drastically and this resulted in excessive supply.The part of reason is also owed to the disruption in the logistic supply chain of the crude transporation.The storage due to halted ships resulted in heavy maintainence costs driving the fuel price down.\n",
        "\n",
        "Since this is an unexpected drastic event, To better predict the price of fuel we need to consider the data only from May-2020."
      ]
    },
    {
      "cell_type": "code",
      "metadata": {
        "id": "LQH-pS8XV-Lp"
      },
      "source": [
        "df.index=df['Date']\n",
        "df = df.sort_index(ascending=True, axis=0)\n",
        "df2=df['2020-04-30':'2021-03-30']\n",
        "df3=df['2021-03-30':'2021-05-30']"
      ],
      "execution_count": null,
      "outputs": []
    },
    {
      "cell_type": "code",
      "metadata": {
        "id": "a9W8ldS0XM_2"
      },
      "source": [
        "dff = pd.DataFrame(index=range(0,len(df)),columns=['Date','Price'])\n",
        "\n",
        "for i in range(0,len(df)):\n",
        "  dff['Date'].values[i] = df['Date'].values[i]\n",
        "  dff['Price'].values[i] = df['Price'].values[i]\n"
      ],
      "execution_count": null,
      "outputs": []
    },
    {
      "cell_type": "markdown",
      "metadata": {
        "id": "ZtcAU5JNBcj2"
      },
      "source": [
        "the LSTM code contiues from this previous cell"
      ]
    },
    {
      "cell_type": "code",
      "metadata": {
        "colab": {
          "base_uri": "https://localhost:8080/"
        },
        "id": "Lblx1VQGY0Bg",
        "outputId": "b9eb9bd6-dc69-4cb7-a5e3-a60c3c071bf2"
      },
      "source": [
        "from fastai.tabular import add_datepart\n",
        "add_datepart(dff,'Date')\n",
        "dff.drop('Elapsed', axis=1, inplace=True)"
      ],
      "execution_count": null,
      "outputs": [
        {
          "output_type": "stream",
          "text": [
            "/usr/local/lib/python3.7/dist-packages/fastai/tabular/transform.py:63: FutureWarning: Series.dt.weekofyear and Series.dt.week have been deprecated.  Please use Series.dt.isocalendar().week instead.\n",
            "  for n in attr: df[prefix + n] = getattr(field.dt, n.lower())\n"
          ],
          "name": "stderr"
        }
      ]
    },
    {
      "cell_type": "markdown",
      "metadata": {
        "id": "Ozqz28J2nUFx"
      },
      "source": [
        "Since there is an unexpected drastic event in the dataset, To better predict the price of fuel we need will be considering the data only from May-2020.\n",
        "\n",
        "Splitting the data into training and validation dataset into 70% and 30% of the original dataset"
      ]
    },
    {
      "cell_type": "code",
      "metadata": {
        "id": "W6xubmUOZWfy"
      },
      "source": [
        "train=dff[306:600]\n",
        "valid=dff[600:]\n",
        "\n",
        "x_train = train.drop('Price', axis=1) \n",
        "y_train = train['Price']\n",
        "\n",
        "x_valid = valid.drop('Price', axis=1)\n",
        "y_valid = valid['Price']"
      ],
      "execution_count": null,
      "outputs": []
    },
    {
      "cell_type": "code",
      "metadata": {
        "id": "2caP2EzPeIVT"
      },
      "source": [
        "from sklearn import preprocessing\n",
        "from sklearn.linear_model import LinearRegression\n",
        "from sklearn.linear_model import LogisticRegression\n",
        "from sklearn.preprocessing import PolynomialFeatures\n",
        "from sklearn.model_selection import train_test_split\n",
        "\n",
        "model=LinearRegression().fit(x_train,y_train)\n",
        "#r_sq=model.score(x_train,y_train)"
      ],
      "execution_count": null,
      "outputs": []
    },
    {
      "cell_type": "markdown",
      "metadata": {
        "id": "ncy3kg_meadb"
      },
      "source": [
        "Making a prediction on the validation dataset obtained from Linear regression"
      ]
    },
    {
      "cell_type": "code",
      "metadata": {
        "colab": {
          "base_uri": "https://localhost:8080/"
        },
        "id": "EOiL-0q8eaEO",
        "outputId": "3cc04c85-8bfa-4ffe-b104-cb07f7fe878f"
      },
      "source": [
        "pred=model.predict(x_valid)\n",
        "rms=np.sqrt(np.mean(np.power((np.array(y_valid)-np.array(pred)),2)))\n",
        "rms"
      ],
      "execution_count": null,
      "outputs": [
        {
          "output_type": "execute_result",
          "data": {
            "text/plain": [
              "24.213274434743234"
            ]
          },
          "metadata": {
            "tags": []
          },
          "execution_count": 11
        }
      ]
    },
    {
      "cell_type": "code",
      "metadata": {
        "colab": {
          "base_uri": "https://localhost:8080/",
          "height": 500
        },
        "id": "Hl7GxE5GewEv",
        "outputId": "a92b40da-a5ba-474b-e915-95ab64f99edd"
      },
      "source": [
        "#Comparing the performance by visualizing on plot\n",
        "\n",
        "valid['Predictions'] = 0\n",
        "valid['Predictions'] = pred\n",
        "\n",
        "valid.index = dff[600:].index\n",
        "train.index = dff[306:600].index \n",
        "\n",
        "plt.plot(train['Price'])\n",
        "plt.plot(valid[['Price', 'Predictions']])"
      ],
      "execution_count": null,
      "outputs": [
        {
          "output_type": "stream",
          "text": [
            "/usr/local/lib/python3.7/dist-packages/ipykernel_launcher.py:3: SettingWithCopyWarning: \n",
            "A value is trying to be set on a copy of a slice from a DataFrame.\n",
            "Try using .loc[row_indexer,col_indexer] = value instead\n",
            "\n",
            "See the caveats in the documentation: https://pandas.pydata.org/pandas-docs/stable/user_guide/indexing.html#returning-a-view-versus-a-copy\n",
            "  This is separate from the ipykernel package so we can avoid doing imports until\n",
            "/usr/local/lib/python3.7/dist-packages/ipykernel_launcher.py:4: SettingWithCopyWarning: \n",
            "A value is trying to be set on a copy of a slice from a DataFrame.\n",
            "Try using .loc[row_indexer,col_indexer] = value instead\n",
            "\n",
            "See the caveats in the documentation: https://pandas.pydata.org/pandas-docs/stable/user_guide/indexing.html#returning-a-view-versus-a-copy\n",
            "  after removing the cwd from sys.path.\n"
          ],
          "name": "stderr"
        },
        {
          "output_type": "execute_result",
          "data": {
            "text/plain": [
              "[<matplotlib.lines.Line2D at 0x7fbe40488250>,\n",
              " <matplotlib.lines.Line2D at 0x7fbe40488450>]"
            ]
          },
          "metadata": {
            "tags": []
          },
          "execution_count": 12
        },
        {
          "output_type": "display_data",
          "data": {
            "image/png": "[encoded data removed]",
            "text/plain": [
              "<Figure size 432x288 with 1 Axes>"
            ]
          },
          "metadata": {
            "tags": [],
            "needs_background": "light"
          }
        }
      ]
    },
    {
      "cell_type": "markdown",
      "metadata": {
        "id": "1XK60bgghxP3"
      },
      "source": [
        "The green plot indicates the predicted fuel prices using Linear regression from the validation dataset\n",
        "\n",
        "---\n",
        "\n"
      ]
    },
    {
      "cell_type": "markdown",
      "metadata": {
        "id": "PcJ7a7RA-pu9"
      },
      "source": [
        "# Using LSTM to predict fuel prices"
      ]
    },
    {
      "cell_type": "code",
      "metadata": {
        "id": "TDKHQUuN-oux"
      },
      "source": [
        "from sklearn.preprocessing import MinMaxScaler\n",
        "from keras.models import Sequential\n",
        "from keras.layers import Dense, Dropout, LSTM"
      ],
      "execution_count": null,
      "outputs": []
    },
    {
      "cell_type": "code",
      "metadata": {
        "id": "pRKA3N9NAvGr"
      },
      "source": [
        "df4 = df.sort_index(ascending=True, axis=0)\n",
        "\n",
        "df5 = pd.DataFrame(index=range(0,len(df)),columns=['Date', 'Price'])\n",
        "\n",
        "for i in range(0,len(df4)):\n",
        "  df5['Date'][i] = df4['Date'][i]\n",
        "  df5['Price'][i] = df4['Price'][i]"
      ],
      "execution_count": null,
      "outputs": []
    },
    {
      "cell_type": "code",
      "metadata": {
        "id": "Z3xsCGyDCuI7",
        "colab": {
          "base_uri": "https://localhost:8080/"
        },
        "outputId": "f7c4e2d4-0060-4869-edc3-26e17671ce4f"
      },
      "source": [
        "df5.index=df5.Date\n",
        "df5.drop('Date', axis=1, inplace=True)\n",
        "print(df5)"
      ],
      "execution_count": null,
      "outputs": [
        {
          "output_type": "stream",
          "text": [
            "            Price\n",
            "Date             \n",
            "2019-06-29  428.5\n",
            "2019-07-02    429\n",
            "2019-07-03    425\n",
            "2019-07-04    426\n",
            "2019-07-05  429.5\n",
            "...           ...\n",
            "2021-05-26    378\n",
            "2021-05-27  379.5\n",
            "2021-05-28    383\n",
            "2021-05-29  387.5\n",
            "2021-05-30  387.5\n",
            "\n",
            "[697 rows x 1 columns]\n"
          ],
          "name": "stdout"
        }
      ]
    },
    {
      "cell_type": "code",
      "metadata": {
        "id": "wakWmaP7Cw8M"
      },
      "source": [
        "dataset = df5.values\n",
        "train1 = dataset[307:600,:]\n",
        "valid1 = dataset[600:,:]"
      ],
      "execution_count": null,
      "outputs": []
    },
    {
      "cell_type": "code",
      "metadata": {
        "colab": {
          "base_uri": "https://localhost:8080/"
        },
        "id": "aIVci4uzcJMw",
        "outputId": "a0b252a9-deca-4040-d8ff-951912a7189b"
      },
      "source": [
        "train1"
      ],
      "execution_count": null,
      "outputs": [
        {
          "output_type": "execute_result",
          "data": {
            "text/plain": [
              "array([[165.0],\n",
              "       [165.0],\n",
              "       [163.5],\n",
              "       [170.0],\n",
              "       ...,\n",
              "       [393.5],\n",
              "       [386.5],\n",
              "       [386.5],\n",
              "       [386.5]], dtype=object)"
            ]
          },
          "metadata": {
            "tags": []
          },
          "execution_count": 17
        }
      ]
    },
    {
      "cell_type": "code",
      "metadata": {
        "id": "RIdofhqiEoAO",
        "colab": {
          "base_uri": "https://localhost:8080/"
        },
        "outputId": "6400f805-67c8-4de5-9b9f-9037a909efb6"
      },
      "source": [
        "scaler = MinMaxScaler(feature_range=(0, 1))   #Normalizing the features in the range (0,1)\n",
        "print(dataset)\n",
        "scaled_data = scaler.fit_transform(dataset)  \n",
        "print(scaled_data)  "
      ],
      "execution_count": null,
      "outputs": [
        {
          "output_type": "stream",
          "text": [
            "[[428.5]\n",
            " [429.0]\n",
            " [425.0]\n",
            " [426.0]\n",
            " ...\n",
            " [379.5]\n",
            " [383.0]\n",
            " [387.5]\n",
            " [387.5]]\n",
            "[[0.631944]\n",
            " [0.633102]\n",
            " [0.623843]\n",
            " [0.626157]\n",
            " ...\n",
            " [0.518519]\n",
            " [0.52662 ]\n",
            " [0.537037]\n",
            " [0.537037]]\n"
          ],
          "name": "stdout"
        }
      ]
    },
    {
      "cell_type": "code",
      "metadata": {
        "id": "EPH9C8G-EnvX",
        "colab": {
          "base_uri": "https://localhost:8080/"
        },
        "outputId": "6e368e78-4047-4c57-c171-f8ee5c63973c"
      },
      "source": [
        "x_train1, y_train1 = [], []\n",
        "\n",
        "g=70\n",
        "for i in range(g,len(train1)):\n",
        "  x_train1.append(scaled_data[i-g:i,0])\n",
        "  y_train1.append(scaled_data[i,0])\n",
        "\n",
        "x_train1, y_train1 = np.array(x_train1), np.array(y_train1)\n",
        "print(x_train1)\n",
        "x_train1 = np.reshape(x_train1, (x_train1.shape[0],x_train1.shape[1],1))\n",
        "print(x_train1.shape)"
      ],
      "execution_count": null,
      "outputs": [
        {
          "output_type": "stream",
          "text": [
            "[[0.631944 0.633102 0.623843 0.626157 ... 0.585648 0.607639 0.653935 0.653935]\n",
            " [0.633102 0.623843 0.626157 0.634259 ... 0.607639 0.653935 0.653935 0.653935]\n",
            " [0.623843 0.626157 0.634259 0.658565 ... 0.653935 0.653935 0.653935 0.635417]\n",
            " [0.626157 0.634259 0.658565 0.658565 ... 0.653935 0.653935 0.635417 0.650463]\n",
            " ...\n",
            " [0.390046 0.399306 0.403935 0.385417 ... 0.140046 0.140046 0.140046 0.111111]\n",
            " [0.399306 0.403935 0.385417 0.385417 ... 0.140046 0.140046 0.111111 0.106481]\n",
            " [0.403935 0.385417 0.385417 0.385417 ... 0.140046 0.111111 0.106481 0.075231]\n",
            " [0.385417 0.385417 0.385417 0.366898 ... 0.111111 0.106481 0.075231 0.076389]]\n",
            "(223, 70, 1)\n"
          ],
          "name": "stdout"
        }
      ]
    },
    {
      "cell_type": "code",
      "metadata": {
        "id": "hyXhYtA-sYUe"
      },
      "source": [
        "x_train1"
      ],
      "execution_count": null,
      "outputs": []
    },
    {
      "cell_type": "code",
      "metadata": {
        "id": "OX0MWy9eGcql"
      },
      "source": [
        "modell = Sequential()\n",
        "modell.add(LSTM(units=50, return_sequences=True, input_shape=(x_train1.shape[1],1)))\n",
        "modell.add(LSTM(units=50))\n",
        "modell.add(Dense(1))"
      ],
      "execution_count": null,
      "outputs": []
    },
    {
      "cell_type": "code",
      "metadata": {
        "colab": {
          "base_uri": "https://localhost:8080/"
        },
        "id": "_U3Pmdj-Gt-i",
        "outputId": "5a4ba913-9eb5-4dea-b253-535c1bb1166c"
      },
      "source": [
        "modell.compile(loss='mean_squared_error', optimizer='adam')\n",
        "modell.fit(x_train1, y_train1, epochs=10, batch_size=1, verbose=2)"
      ],
      "execution_count": null,
      "outputs": [
        {
          "output_type": "stream",
          "text": [
            "Epoch 1/10\n",
            "223/223 - 22s - loss: 0.0116\n",
            "Epoch 2/10\n",
            "223/223 - 5s - loss: 0.0038\n",
            "Epoch 3/10\n",
            "223/223 - 5s - loss: 0.0036\n",
            "Epoch 4/10\n",
            "223/223 - 5s - loss: 0.0031\n",
            "Epoch 5/10\n",
            "223/223 - 5s - loss: 0.0033\n",
            "Epoch 6/10\n",
            "223/223 - 5s - loss: 0.0028\n",
            "Epoch 7/10\n",
            "223/223 - 5s - loss: 0.0018\n",
            "Epoch 8/10\n",
            "223/223 - 5s - loss: 0.0021\n",
            "Epoch 9/10\n",
            "223/223 - 5s - loss: 0.0016\n",
            "Epoch 10/10\n",
            "223/223 - 5s - loss: 0.0019\n"
          ],
          "name": "stdout"
        },
        {
          "output_type": "execute_result",
          "data": {
            "text/plain": [
              "<keras.callbacks.History at 0x7fbe009c2b90>"
            ]
          },
          "metadata": {
            "tags": []
          },
          "execution_count": 22
        }
      ]
    },
    {
      "cell_type": "markdown",
      "metadata": {
        "id": "zmprVdjTG-x-"
      },
      "source": [
        "Predicting values, using past 70 values from the train data"
      ]
    },
    {
      "cell_type": "code",
      "metadata": {
        "id": "csZm6fdcG-Yp",
        "colab": {
          "base_uri": "https://localhost:8080/"
        },
        "outputId": "04b93f40-5b10-4a0b-c7a4-d2954963448d"
      },
      "source": [
        "inputs = df5[len(df5) - len(valid1) - g:].values\n",
        "print(inputs.shape)\n",
        "inputs = inputs.reshape(-1,1)\n",
        "print(inputs)\n",
        "inputs  = scaler.transform(inputs)"
      ],
      "execution_count": null,
      "outputs": [
        {
          "output_type": "stream",
          "text": [
            "(167, 1)\n",
            "[[324.0]\n",
            " [324.5]\n",
            " [327.0]\n",
            " [330.5]\n",
            " ...\n",
            " [379.5]\n",
            " [383.0]\n",
            " [387.5]\n",
            " [387.5]]\n"
          ],
          "name": "stdout"
        }
      ]
    },
    {
      "cell_type": "code",
      "metadata": {
        "id": "5qu_o_cVHfnR"
      },
      "source": [
        "X_test = []\n",
        "for i in range(g,inputs.shape[0]):\n",
        "    X_test.append(inputs[i-g:i,0])\n",
        "X_test = np.array(X_test)"
      ],
      "execution_count": null,
      "outputs": []
    },
    {
      "cell_type": "code",
      "metadata": {
        "colab": {
          "base_uri": "https://localhost:8080/"
        },
        "id": "5hdSF781jGP-",
        "outputId": "b37e87eb-e692-4619-e0f9-8a73ae38f425"
      },
      "source": [
        "print(X_test.shape)"
      ],
      "execution_count": null,
      "outputs": [
        {
          "output_type": "stream",
          "text": [
            "(97, 70)\n"
          ],
          "name": "stdout"
        }
      ]
    },
    {
      "cell_type": "code",
      "metadata": {
        "id": "BhyyGxA7HgQq"
      },
      "source": [
        "X_test = np.reshape(X_test, (X_test.shape[0],X_test.shape[1],1))\n",
        "closing_price = modell.predict(X_test)"
      ],
      "execution_count": null,
      "outputs": []
    },
    {
      "cell_type": "code",
      "metadata": {
        "id": "9LwIRTmXHj84"
      },
      "source": [
        "closing_price = scaler.inverse_transform(closing_price)\n",
        "rms1=np.sqrt(np.mean(np.power((valid1-closing_price),2)))"
      ],
      "execution_count": null,
      "outputs": []
    },
    {
      "cell_type": "code",
      "metadata": {
        "id": "5ZSNuj5hOvdz"
      },
      "source": [
        "X_test"
      ],
      "execution_count": null,
      "outputs": []
    },
    {
      "cell_type": "code",
      "metadata": {
        "colab": {
          "base_uri": "https://localhost:8080/"
        },
        "id": "PLXaE5ONJFxE",
        "outputId": "a5ed5e4b-f15a-4b8d-90e7-1c56fb99611c"
      },
      "source": [
        "rms1"
      ],
      "execution_count": null,
      "outputs": [
        {
          "output_type": "execute_result",
          "data": {
            "text/plain": [
              "7.397728139427401"
            ]
          },
          "metadata": {
            "tags": []
          },
          "execution_count": 29
        }
      ]
    },
    {
      "cell_type": "code",
      "metadata": {
        "colab": {
          "base_uri": "https://localhost:8080/",
          "height": 399
        },
        "id": "xw-6KKdSJepV",
        "outputId": "ea7733ff-6a63-498c-979e-fa68f2f76ca9"
      },
      "source": [
        "train2 = df5[307:600]\n",
        "valid2 = df5[600:]\n",
        "valid2['Predictions'] = closing_price\n",
        "plt.plot(train2['Price'])\n",
        "plt.plot(valid2[['Price','Predictions']])"
      ],
      "execution_count": null,
      "outputs": [
        {
          "output_type": "stream",
          "text": [
            "/usr/local/lib/python3.7/dist-packages/ipykernel_launcher.py:3: SettingWithCopyWarning: \n",
            "A value is trying to be set on a copy of a slice from a DataFrame.\n",
            "Try using .loc[row_indexer,col_indexer] = value instead\n",
            "\n",
            "See the caveats in the documentation: https://pandas.pydata.org/pandas-docs/stable/user_guide/indexing.html#returning-a-view-versus-a-copy\n",
            "  This is separate from the ipykernel package so we can avoid doing imports until\n"
          ],
          "name": "stderr"
        },
        {
          "output_type": "execute_result",
          "data": {
            "text/plain": [
              "[<matplotlib.lines.Line2D at 0x7fbdffddf490>,\n",
              " <matplotlib.lines.Line2D at 0x7fbdffc32150>]"
            ]
          },
          "metadata": {
            "tags": []
          },
          "execution_count": 30
        },
        {
          "output_type": "display_data",
          "data": {
            "image/png": "[encoded data removed]",
            "text/plain": [
              "<Figure size 432x288 with 1 Axes>"
            ]
          },
          "metadata": {
            "tags": [],
            "needs_background": "light"
          }
        }
      ]
    },
    {
      "cell_type": "markdown",
      "metadata": {
        "id": "vcqVQQaKboSv"
      },
      "source": [
        "The green plot shows the predicted fuel prices from the validation dataset. Now using this model,we have to forecast the price for the next 28 days"
      ]
    },
    {
      "cell_type": "code",
      "metadata": {
        "colab": {
          "base_uri": "https://localhost:8080/"
        },
        "id": "WEeyCEUUb8vE",
        "outputId": "0cfd1931-a796-402c-bf29-1405c62cc144"
      },
      "source": [
        "len(valid2)"
      ],
      "execution_count": null,
      "outputs": [
        {
          "output_type": "execute_result",
          "data": {
            "text/plain": [
              "97"
            ]
          },
          "metadata": {
            "tags": []
          },
          "execution_count": 34
        }
      ]
    },
    {
      "cell_type": "code",
      "metadata": {
        "id": "2Lw1Kv9JZr2-",
        "colab": {
          "base_uri": "https://localhost:8080/"
        },
        "outputId": "31baaae4-8b13-4faf-bcb0-b404095610f8"
      },
      "source": [
        "x_input=valid2['Price'].values[27:]\n",
        "#x_input.reshape((-1,1))\n",
        "x_input=np.expand_dims(x_input,axis=1)\n",
        "print(x_input)\n",
        "x_input = scaler.transform(x_input)\n",
        "print(x_input)"
      ],
      "execution_count": null,
      "outputs": [
        {
          "output_type": "stream",
          "text": [
            "[[400.5]\n",
            " [403.5]\n",
            " [388.5]\n",
            " [379.0]\n",
            " ...\n",
            " [379.5]\n",
            " [383.0]\n",
            " [387.5]\n",
            " [387.5]]\n",
            "[[0.56713 ]\n",
            " [0.574074]\n",
            " [0.539352]\n",
            " [0.517361]\n",
            " ...\n",
            " [0.518519]\n",
            " [0.52662 ]\n",
            " [0.537037]\n",
            " [0.537037]]\n"
          ],
          "name": "stdout"
        }
      ]
    },
    {
      "cell_type": "code",
      "metadata": {
        "id": "gwSs6av4ciCW"
      },
      "source": [
        "temp_input=list(x_input)\n",
        "#temp_input=temp_input[0].tolist()"
      ],
      "execution_count": null,
      "outputs": []
    },
    {
      "cell_type": "code",
      "metadata": {
        "colab": {
          "base_uri": "https://localhost:8080/"
        },
        "id": "NUklTg4zj0Be",
        "outputId": "871bf357-247e-41d3-b440-ee80fa561e1e"
      },
      "source": [
        "print(len(temp_input))"
      ],
      "execution_count": null,
      "outputs": [
        {
          "output_type": "stream",
          "text": [
            "70\n"
          ],
          "name": "stdout"
        }
      ]
    },
    {
      "cell_type": "code",
      "metadata": {
        "id": "kk3cmcxXcwJZ"
      },
      "source": [
        "x_input=valid2['Price'].values[27:]\n",
        "#x_input.reshape((-1,1))\n",
        "x_input=np.expand_dims(x_input,axis=1)\n",
        "#print(x_input)\n",
        "x_input = scaler.transform(x_input)\n",
        "temp_input=list(x_input)\n",
        "\n",
        "from numpy import array\n",
        "lst_output=[]\n",
        "n_steps=70\n",
        "i=0\n",
        "\n",
        "while(i<30):\n",
        "  #print(i)\n",
        "  if(len(temp_input)>70):\n",
        "    #print(temp_input)\n",
        "    x_input=np.array(temp_input[1:])\n",
        "    x_input=x_input.reshape(1,-1)\n",
        "    x_input=x_input.reshape((1,n_steps,1))\n",
        "    #print(x_input)\n",
        "    yhat=modell.predict(x_input,verbose=0)\n",
        "    temp_input.extend(np.array([yhat[0].tolist()]))\n",
        "    temp_input=temp_input[1:]\n",
        "    #print(temp_input)\n",
        "    lst_output.extend(yhat)\n",
        "    i=i+1\n",
        "  else:\n",
        "    x_input=x_input.reshape((1,n_steps,1))\n",
        "    #print(x_input.shape)\n",
        "    #print(x_input)\n",
        "    yhat=modell.predict(x_input,verbose=0)\n",
        "    #print(yhat[0])\n",
        "    temp_input.extend(np.array([yhat[0].tolist()]))\n",
        "    #print(temp_input)\n",
        "    lst_output.extend(yhat)\n",
        "    #print(lst_output)\n",
        "    i=i+1\n",
        "\n",
        "    \n"
      ],
      "execution_count": null,
      "outputs": []
    },
    {
      "cell_type": "code",
      "metadata": {
        "id": "Ad_obu_YExeM"
      },
      "source": [
        "day_new=np.arange(1,71)\n",
        "day_pred=np.arange(71,101)"
      ],
      "execution_count": null,
      "outputs": []
    },
    {
      "cell_type": "code",
      "metadata": {
        "colab": {
          "base_uri": "https://localhost:8080/"
        },
        "id": "MDSBNfNFYF7j",
        "outputId": "220b0706-50d2-44da-dc4b-ee4fa6e0ebb8"
      },
      "source": [
        "import matplotlib.pyplot as plt\n",
        "len(df5)"
      ],
      "execution_count": null,
      "outputs": [
        {
          "output_type": "execute_result",
          "data": {
            "text/plain": [
              "697"
            ]
          },
          "metadata": {
            "tags": []
          },
          "execution_count": 68
        }
      ]
    },
    {
      "cell_type": "code",
      "metadata": {
        "colab": {
          "base_uri": "https://localhost:8080/",
          "height": 265
        },
        "id": "jihSrBtuYvt4",
        "outputId": "f6f66d11-2bfe-492c-c98f-b1879261818c"
      },
      "source": [
        "plt.plot(day_new,df5[627:])\n",
        "plt.plot(day_pred,scaler.inverse_transform(lst_output))\n",
        "plt.show()"
      ],
      "execution_count": null,
      "outputs": [
        {
          "output_type": "display_data",
          "data": {
            "image/png": "[encoded data removed]",
            "text/plain": [
              "<Figure size 432x288 with 1 Axes>"
            ]
          },
          "metadata": {
            "tags": [],
            "needs_background": "light"
          }
        }
      ]
    },
    {
      "cell_type": "code",
      "metadata": {
        "id": "Oe7-7sEAdANk"
      },
      "source": [
        "lst_output"
      ],
      "execution_count": null,
      "outputs": []
    },
    {
      "cell_type": "markdown",
      "metadata": {
        "id": "UuCezn5MlSIU"
      },
      "source": [
        "Combining the predicted prices with the orignal dataset and plotting on a daily real scale"
      ]
    },
    {
      "cell_type": "code",
      "metadata": {
        "colab": {
          "base_uri": "https://localhost:8080/",
          "height": 265
        },
        "id": "vpc3NTJMaW8z",
        "outputId": "bc4f34a4-b5b9-458e-f65e-6bcada6c3f4d"
      },
      "source": [
        "dfk=df5.values.tolist()\n",
        "dfk.extend(scaler.inverse_transform(lst_output).tolist())\n",
        "plt.plot(dfk[300:])\n",
        "plt.show()"
      ],
      "execution_count": null,
      "outputs": [
        {
          "output_type": "display_data",
          "data": {
            "image/png": "[encoded data removed]",
            "text/plain": [
              "<Figure size 432x288 with 1 Axes>"
            ]
          },
          "metadata": {
            "tags": [],
            "needs_background": "light"
          }
        }
      ]
    },
    {
      "cell_type": "markdown",
      "metadata": {
        "id": "h-cf2Kikc9j-"
      },
      "source": [
        "# CONCLUSION:\n",
        "\n",
        "As we can see the forecasting for the next 30 days is bullish since the fuel price increases from USD 380 per metric tonne to the range of USD 415 per metric tonne and seems to stabilize there."
      ]
    }
  ]
}